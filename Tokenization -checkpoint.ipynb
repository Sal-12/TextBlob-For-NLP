{
 "cells": [
  {
   "cell_type": "code",
   "execution_count": 1,
   "metadata": {},
   "outputs": [],
   "source": [
    "from textblob import TextBlob"
   ]
  },
  {
   "cell_type": "code",
   "execution_count": 2,
   "metadata": {},
   "outputs": [],
   "source": [
    "text1 = \"\"\"Saturn was an American magazine published from 1957 to 1965. \n",
    "           It was launched as a science-fiction magazine, but sales were weak, and after five issues the publisher, \n",
    "           Robert C. Sproul, switched the magazine to hardboiled detective fiction that emphasized sex and sadism.\n",
    "           Sproul renamed the magazine several times, settling on Web Terror Stories in 1962, \n",
    "           and the contents became mostly weird-menace tales—a genre in which apparently supernatural powers are revealed \n",
    "           to have a logical explanation at the end of the story. Donald A. Wollheim was the editor for the first five issues;\n",
    "           he published material by several well-known authors, including Robert A. Heinlein, H. P. Lovecraft, and Harlan Ellison,\n",
    "           but was given a low budget and could not always find good-quality stories\"\"\"  # taken from wikipedia."
   ]
  },
  {
   "cell_type": "code",
   "execution_count": 3,
   "metadata": {},
   "outputs": [
    {
     "data": {
      "text/plain": [
       "'Saturn was an American magazine published from 1957 to 1965. \\n           It was launched as a science-fiction magazine, but sales were weak, and after five issues the publisher, \\n           Robert C. Sproul, switched the magazine to hardboiled detective fiction that emphasized sex and sadism.\\n           Sproul renamed the magazine several times, settling on Web Terror Stories in 1962, \\n           and the contents became mostly weird-menace tales—a genre in which apparently supernatural powers are revealed \\n           to have a logical explanation at the end of the story. Donald A. Wollheim was the editor for the first five issues;\\n           he published material by several well-known authors, including Robert A. Heinlein, H. P. Lovecraft, and Harlan Ellison,\\n           but was given a low budget and could not always find good-quality stories'"
      ]
     },
     "execution_count": 3,
     "metadata": {},
     "output_type": "execute_result"
    }
   ],
   "source": [
    "text1"
   ]
  },
  {
   "cell_type": "code",
   "execution_count": 7,
   "metadata": {},
   "outputs": [],
   "source": [
    "paragraph = TextBlob(text1)"
   ]
  },
  {
   "cell_type": "code",
   "execution_count": 8,
   "metadata": {},
   "outputs": [
    {
     "data": {
      "text/plain": [
       "textblob.blob.TextBlob"
      ]
     },
     "execution_count": 8,
     "metadata": {},
     "output_type": "execute_result"
    }
   ],
   "source": [
    "type(paragraph)"
   ]
  },
  {
   "cell_type": "code",
   "execution_count": 9,
   "metadata": {},
   "outputs": [
    {
     "data": {
      "text/plain": [
       "TextBlob(\"Saturn was an American magazine published from 1957 to 1965. \n",
       "           It was launched as a science-fiction magazine, but sales were weak, and after five issues the publisher, \n",
       "           Robert C. Sproul, switched the magazine to hardboiled detective fiction that emphasized sex and sadism.\n",
       "           Sproul renamed the magazine several times, settling on Web Terror Stories in 1962, \n",
       "           and the contents became mostly weird-menace tales—a genre in which apparently supernatural powers are revealed \n",
       "           to have a logical explanation at the end of the story. Donald A. Wollheim was the editor for the first five issues;\n",
       "           he published material by several well-known authors, including Robert A. Heinlein, H. P. Lovecraft, and Harlan Ellison,\n",
       "           but was given a low budget and could not always find good-quality stories\")"
      ]
     },
     "execution_count": 9,
     "metadata": {},
     "output_type": "execute_result"
    }
   ],
   "source": [
    "paragraph"
   ]
  },
  {
   "cell_type": "code",
   "execution_count": 10,
   "metadata": {},
   "outputs": [
    {
     "data": {
      "text/plain": [
       "WordList(['Saturn', 'was', 'an', 'American', 'magazine', 'published', 'from', '1957', 'to', '1965', 'It', 'was', 'launched', 'as', 'a', 'science-fiction', 'magazine', 'but', 'sales', 'were', 'weak', 'and', 'after', 'five', 'issues', 'the', 'publisher', 'Robert', 'C', 'Sproul', 'switched', 'the', 'magazine', 'to', 'hardboiled', 'detective', 'fiction', 'that', 'emphasized', 'sex', 'and', 'sadism', 'Sproul', 'renamed', 'the', 'magazine', 'several', 'times', 'settling', 'on', 'Web', 'Terror', 'Stories', 'in', '1962', 'and', 'the', 'contents', 'became', 'mostly', 'weird-menace', 'tales—a', 'genre', 'in', 'which', 'apparently', 'supernatural', 'powers', 'are', 'revealed', 'to', 'have', 'a', 'logical', 'explanation', 'at', 'the', 'end', 'of', 'the', 'story', 'Donald', 'A', 'Wollheim', 'was', 'the', 'editor', 'for', 'the', 'first', 'five', 'issues', 'he', 'published', 'material', 'by', 'several', 'well-known', 'authors', 'including', 'Robert', 'A', 'Heinlein', 'H', 'P', 'Lovecraft', 'and', 'Harlan', 'Ellison', 'but', 'was', 'given', 'a', 'low', 'budget', 'and', 'could', 'not', 'always', 'find', 'good-quality', 'stories'])"
      ]
     },
     "execution_count": 10,
     "metadata": {},
     "output_type": "execute_result"
    }
   ],
   "source": [
    "paragraph.words"
   ]
  },
  {
   "cell_type": "code",
   "execution_count": null,
   "metadata": {},
   "outputs": [],
   "source": [
    "# for word tokens"
   ]
  },
  {
   "cell_type": "code",
   "execution_count": 14,
   "metadata": {},
   "outputs": [
    {
     "name": "stdout",
     "output_type": "stream",
     "text": [
      "['Saturn', 'was', 'an', 'American', 'magazine', 'published', 'from', '1957', 'to', '1965']\n",
      "['It', 'was', 'launched', 'as', 'a', 'science-fiction', 'magazine', 'but', 'sales', 'were', 'weak', 'and', 'after', 'five', 'issues', 'the', 'publisher', 'Robert', 'C', 'Sproul', 'switched', 'the', 'magazine', 'to', 'hardboiled', 'detective', 'fiction', 'that', 'emphasized', 'sex', 'and', 'sadism']\n",
      "['Sproul', 'renamed', 'the', 'magazine', 'several', 'times', 'settling', 'on', 'Web', 'Terror', 'Stories', 'in', '1962', 'and', 'the', 'contents', 'became', 'mostly', 'weird-menace', 'tales—a', 'genre', 'in', 'which', 'apparently', 'supernatural', 'powers', 'are', 'revealed', 'to', 'have', 'a', 'logical', 'explanation', 'at', 'the', 'end', 'of', 'the', 'story']\n",
      "['Donald', 'A', 'Wollheim', 'was', 'the', 'editor', 'for', 'the', 'first', 'five', 'issues', 'he', 'published', 'material', 'by', 'several', 'well-known', 'authors', 'including', 'Robert', 'A', 'Heinlein', 'H', 'P', 'Lovecraft', 'and', 'Harlan', 'Ellison', 'but', 'was', 'given', 'a', 'low', 'budget', 'and', 'could', 'not', 'always', 'find', 'good-quality', 'stories']\n"
     ]
    }
   ],
   "source": [
    "for s in paragraph.sentences:\n",
    "    print(s.words)"
   ]
  },
  {
   "cell_type": "code",
   "execution_count": null,
   "metadata": {},
   "outputs": [],
   "source": [
    "# Sentence Tokenization"
   ]
  },
  {
   "cell_type": "code",
   "execution_count": 11,
   "metadata": {},
   "outputs": [
    {
     "data": {
      "text/plain": [
       "[Sentence(\"Saturn was an American magazine published from 1957 to 1965.\"),\n",
       " Sentence(\"It was launched as a science-fiction magazine, but sales were weak, and after five issues the publisher, \n",
       "            Robert C. Sproul, switched the magazine to hardboiled detective fiction that emphasized sex and sadism.\"),\n",
       " Sentence(\"Sproul renamed the magazine several times, settling on Web Terror Stories in 1962, \n",
       "            and the contents became mostly weird-menace tales—a genre in which apparently supernatural powers are revealed \n",
       "            to have a logical explanation at the end of the story.\"),\n",
       " Sentence(\"Donald A. Wollheim was the editor for the first five issues;\n",
       "            he published material by several well-known authors, including Robert A. Heinlein, H. P. Lovecraft, and Harlan Ellison,\n",
       "            but was given a low budget and could not always find good-quality stories\")]"
      ]
     },
     "execution_count": 11,
     "metadata": {},
     "output_type": "execute_result"
    }
   ],
   "source": [
    "paragraph.sentences"
   ]
  },
  {
   "cell_type": "code",
   "execution_count": null,
   "metadata": {},
   "outputs": [],
   "source": [
    "# n_grams"
   ]
  },
  {
   "cell_type": "code",
   "execution_count": 16,
   "metadata": {},
   "outputs": [
    {
     "name": "stdout",
     "output_type": "stream",
     "text": [
      "['Saturn']\n",
      "['was']\n",
      "['an']\n",
      "['American']\n",
      "['magazine']\n",
      "['published']\n",
      "['from']\n",
      "['1957']\n",
      "['to']\n",
      "['1965']\n",
      "['It']\n",
      "['was']\n",
      "['launched']\n",
      "['as']\n",
      "['a']\n",
      "['science-fiction']\n",
      "['magazine']\n",
      "['but']\n",
      "['sales']\n",
      "['were']\n",
      "['weak']\n",
      "['and']\n",
      "['after']\n",
      "['five']\n",
      "['issues']\n",
      "['the']\n",
      "['publisher']\n",
      "['Robert']\n",
      "['C']\n",
      "['Sproul']\n",
      "['switched']\n",
      "['the']\n",
      "['magazine']\n",
      "['to']\n",
      "['hardboiled']\n",
      "['detective']\n",
      "['fiction']\n",
      "['that']\n",
      "['emphasized']\n",
      "['sex']\n",
      "['and']\n",
      "['sadism']\n",
      "['Sproul']\n",
      "['renamed']\n",
      "['the']\n",
      "['magazine']\n",
      "['several']\n",
      "['times']\n",
      "['settling']\n",
      "['on']\n",
      "['Web']\n",
      "['Terror']\n",
      "['Stories']\n",
      "['in']\n",
      "['1962']\n",
      "['and']\n",
      "['the']\n",
      "['contents']\n",
      "['became']\n",
      "['mostly']\n",
      "['weird-menace']\n",
      "['tales—a']\n",
      "['genre']\n",
      "['in']\n",
      "['which']\n",
      "['apparently']\n",
      "['supernatural']\n",
      "['powers']\n",
      "['are']\n",
      "['revealed']\n",
      "['to']\n",
      "['have']\n",
      "['a']\n",
      "['logical']\n",
      "['explanation']\n",
      "['at']\n",
      "['the']\n",
      "['end']\n",
      "['of']\n",
      "['the']\n",
      "['story']\n",
      "['Donald']\n",
      "['A']\n",
      "['Wollheim']\n",
      "['was']\n",
      "['the']\n",
      "['editor']\n",
      "['for']\n",
      "['the']\n",
      "['first']\n",
      "['five']\n",
      "['issues']\n",
      "['he']\n",
      "['published']\n",
      "['material']\n",
      "['by']\n",
      "['several']\n",
      "['well-known']\n",
      "['authors']\n",
      "['including']\n",
      "['Robert']\n",
      "['A']\n",
      "['Heinlein']\n",
      "['H']\n",
      "['P']\n",
      "['Lovecraft']\n",
      "['and']\n",
      "['Harlan']\n",
      "['Ellison']\n",
      "['but']\n",
      "['was']\n",
      "['given']\n",
      "['a']\n",
      "['low']\n",
      "['budget']\n",
      "['and']\n",
      "['could']\n",
      "['not']\n",
      "['always']\n",
      "['find']\n",
      "['good-quality']\n",
      "['stories']\n"
     ]
    }
   ],
   "source": [
    "# uni_gram\n",
    "for unigram in paragraph.ngrams(1):\n",
    "    print(unigram)"
   ]
  },
  {
   "cell_type": "code",
   "execution_count": 15,
   "metadata": {},
   "outputs": [
    {
     "name": "stdout",
     "output_type": "stream",
     "text": [
      "['Saturn', 'was']\n",
      "['was', 'an']\n",
      "['an', 'American']\n",
      "['American', 'magazine']\n",
      "['magazine', 'published']\n",
      "['published', 'from']\n",
      "['from', '1957']\n",
      "['1957', 'to']\n",
      "['to', '1965']\n",
      "['1965', 'It']\n",
      "['It', 'was']\n",
      "['was', 'launched']\n",
      "['launched', 'as']\n",
      "['as', 'a']\n",
      "['a', 'science-fiction']\n",
      "['science-fiction', 'magazine']\n",
      "['magazine', 'but']\n",
      "['but', 'sales']\n",
      "['sales', 'were']\n",
      "['were', 'weak']\n",
      "['weak', 'and']\n",
      "['and', 'after']\n",
      "['after', 'five']\n",
      "['five', 'issues']\n",
      "['issues', 'the']\n",
      "['the', 'publisher']\n",
      "['publisher', 'Robert']\n",
      "['Robert', 'C']\n",
      "['C', 'Sproul']\n",
      "['Sproul', 'switched']\n",
      "['switched', 'the']\n",
      "['the', 'magazine']\n",
      "['magazine', 'to']\n",
      "['to', 'hardboiled']\n",
      "['hardboiled', 'detective']\n",
      "['detective', 'fiction']\n",
      "['fiction', 'that']\n",
      "['that', 'emphasized']\n",
      "['emphasized', 'sex']\n",
      "['sex', 'and']\n",
      "['and', 'sadism']\n",
      "['sadism', 'Sproul']\n",
      "['Sproul', 'renamed']\n",
      "['renamed', 'the']\n",
      "['the', 'magazine']\n",
      "['magazine', 'several']\n",
      "['several', 'times']\n",
      "['times', 'settling']\n",
      "['settling', 'on']\n",
      "['on', 'Web']\n",
      "['Web', 'Terror']\n",
      "['Terror', 'Stories']\n",
      "['Stories', 'in']\n",
      "['in', '1962']\n",
      "['1962', 'and']\n",
      "['and', 'the']\n",
      "['the', 'contents']\n",
      "['contents', 'became']\n",
      "['became', 'mostly']\n",
      "['mostly', 'weird-menace']\n",
      "['weird-menace', 'tales—a']\n",
      "['tales—a', 'genre']\n",
      "['genre', 'in']\n",
      "['in', 'which']\n",
      "['which', 'apparently']\n",
      "['apparently', 'supernatural']\n",
      "['supernatural', 'powers']\n",
      "['powers', 'are']\n",
      "['are', 'revealed']\n",
      "['revealed', 'to']\n",
      "['to', 'have']\n",
      "['have', 'a']\n",
      "['a', 'logical']\n",
      "['logical', 'explanation']\n",
      "['explanation', 'at']\n",
      "['at', 'the']\n",
      "['the', 'end']\n",
      "['end', 'of']\n",
      "['of', 'the']\n",
      "['the', 'story']\n",
      "['story', 'Donald']\n",
      "['Donald', 'A']\n",
      "['A', 'Wollheim']\n",
      "['Wollheim', 'was']\n",
      "['was', 'the']\n",
      "['the', 'editor']\n",
      "['editor', 'for']\n",
      "['for', 'the']\n",
      "['the', 'first']\n",
      "['first', 'five']\n",
      "['five', 'issues']\n",
      "['issues', 'he']\n",
      "['he', 'published']\n",
      "['published', 'material']\n",
      "['material', 'by']\n",
      "['by', 'several']\n",
      "['several', 'well-known']\n",
      "['well-known', 'authors']\n",
      "['authors', 'including']\n",
      "['including', 'Robert']\n",
      "['Robert', 'A']\n",
      "['A', 'Heinlein']\n",
      "['Heinlein', 'H']\n",
      "['H', 'P']\n",
      "['P', 'Lovecraft']\n",
      "['Lovecraft', 'and']\n",
      "['and', 'Harlan']\n",
      "['Harlan', 'Ellison']\n",
      "['Ellison', 'but']\n",
      "['but', 'was']\n",
      "['was', 'given']\n",
      "['given', 'a']\n",
      "['a', 'low']\n",
      "['low', 'budget']\n",
      "['budget', 'and']\n",
      "['and', 'could']\n",
      "['could', 'not']\n",
      "['not', 'always']\n",
      "['always', 'find']\n",
      "['find', 'good-quality']\n",
      "['good-quality', 'stories']\n"
     ]
    }
   ],
   "source": [
    "# bi_gram\n",
    "for bigram in paragraph.ngrams(2):\n",
    "    print(bigram)"
   ]
  },
  {
   "cell_type": "code",
   "execution_count": 18,
   "metadata": {},
   "outputs": [
    {
     "name": "stdout",
     "output_type": "stream",
     "text": [
      "['Saturn', 'was', 'an']\n",
      "['was', 'an', 'American']\n",
      "['an', 'American', 'magazine']\n",
      "['American', 'magazine', 'published']\n",
      "['magazine', 'published', 'from']\n",
      "['published', 'from', '1957']\n",
      "['from', '1957', 'to']\n",
      "['1957', 'to', '1965']\n",
      "['to', '1965', 'It']\n",
      "['1965', 'It', 'was']\n",
      "['It', 'was', 'launched']\n",
      "['was', 'launched', 'as']\n",
      "['launched', 'as', 'a']\n",
      "['as', 'a', 'science-fiction']\n",
      "['a', 'science-fiction', 'magazine']\n",
      "['science-fiction', 'magazine', 'but']\n",
      "['magazine', 'but', 'sales']\n",
      "['but', 'sales', 'were']\n",
      "['sales', 'were', 'weak']\n",
      "['were', 'weak', 'and']\n",
      "['weak', 'and', 'after']\n",
      "['and', 'after', 'five']\n",
      "['after', 'five', 'issues']\n",
      "['five', 'issues', 'the']\n",
      "['issues', 'the', 'publisher']\n",
      "['the', 'publisher', 'Robert']\n",
      "['publisher', 'Robert', 'C']\n",
      "['Robert', 'C', 'Sproul']\n",
      "['C', 'Sproul', 'switched']\n",
      "['Sproul', 'switched', 'the']\n",
      "['switched', 'the', 'magazine']\n",
      "['the', 'magazine', 'to']\n",
      "['magazine', 'to', 'hardboiled']\n",
      "['to', 'hardboiled', 'detective']\n",
      "['hardboiled', 'detective', 'fiction']\n",
      "['detective', 'fiction', 'that']\n",
      "['fiction', 'that', 'emphasized']\n",
      "['that', 'emphasized', 'sex']\n",
      "['emphasized', 'sex', 'and']\n",
      "['sex', 'and', 'sadism']\n",
      "['and', 'sadism', 'Sproul']\n",
      "['sadism', 'Sproul', 'renamed']\n",
      "['Sproul', 'renamed', 'the']\n",
      "['renamed', 'the', 'magazine']\n",
      "['the', 'magazine', 'several']\n",
      "['magazine', 'several', 'times']\n",
      "['several', 'times', 'settling']\n",
      "['times', 'settling', 'on']\n",
      "['settling', 'on', 'Web']\n",
      "['on', 'Web', 'Terror']\n",
      "['Web', 'Terror', 'Stories']\n",
      "['Terror', 'Stories', 'in']\n",
      "['Stories', 'in', '1962']\n",
      "['in', '1962', 'and']\n",
      "['1962', 'and', 'the']\n",
      "['and', 'the', 'contents']\n",
      "['the', 'contents', 'became']\n",
      "['contents', 'became', 'mostly']\n",
      "['became', 'mostly', 'weird-menace']\n",
      "['mostly', 'weird-menace', 'tales—a']\n",
      "['weird-menace', 'tales—a', 'genre']\n",
      "['tales—a', 'genre', 'in']\n",
      "['genre', 'in', 'which']\n",
      "['in', 'which', 'apparently']\n",
      "['which', 'apparently', 'supernatural']\n",
      "['apparently', 'supernatural', 'powers']\n",
      "['supernatural', 'powers', 'are']\n",
      "['powers', 'are', 'revealed']\n",
      "['are', 'revealed', 'to']\n",
      "['revealed', 'to', 'have']\n",
      "['to', 'have', 'a']\n",
      "['have', 'a', 'logical']\n",
      "['a', 'logical', 'explanation']\n",
      "['logical', 'explanation', 'at']\n",
      "['explanation', 'at', 'the']\n",
      "['at', 'the', 'end']\n",
      "['the', 'end', 'of']\n",
      "['end', 'of', 'the']\n",
      "['of', 'the', 'story']\n",
      "['the', 'story', 'Donald']\n",
      "['story', 'Donald', 'A']\n",
      "['Donald', 'A', 'Wollheim']\n",
      "['A', 'Wollheim', 'was']\n",
      "['Wollheim', 'was', 'the']\n",
      "['was', 'the', 'editor']\n",
      "['the', 'editor', 'for']\n",
      "['editor', 'for', 'the']\n",
      "['for', 'the', 'first']\n",
      "['the', 'first', 'five']\n",
      "['first', 'five', 'issues']\n",
      "['five', 'issues', 'he']\n",
      "['issues', 'he', 'published']\n",
      "['he', 'published', 'material']\n",
      "['published', 'material', 'by']\n",
      "['material', 'by', 'several']\n",
      "['by', 'several', 'well-known']\n",
      "['several', 'well-known', 'authors']\n",
      "['well-known', 'authors', 'including']\n",
      "['authors', 'including', 'Robert']\n",
      "['including', 'Robert', 'A']\n",
      "['Robert', 'A', 'Heinlein']\n",
      "['A', 'Heinlein', 'H']\n",
      "['Heinlein', 'H', 'P']\n",
      "['H', 'P', 'Lovecraft']\n",
      "['P', 'Lovecraft', 'and']\n",
      "['Lovecraft', 'and', 'Harlan']\n",
      "['and', 'Harlan', 'Ellison']\n",
      "['Harlan', 'Ellison', 'but']\n",
      "['Ellison', 'but', 'was']\n",
      "['but', 'was', 'given']\n",
      "['was', 'given', 'a']\n",
      "['given', 'a', 'low']\n",
      "['a', 'low', 'budget']\n",
      "['low', 'budget', 'and']\n",
      "['budget', 'and', 'could']\n",
      "['and', 'could', 'not']\n",
      "['could', 'not', 'always']\n",
      "['not', 'always', 'find']\n",
      "['always', 'find', 'good-quality']\n",
      "['find', 'good-quality', 'stories']\n"
     ]
    }
   ],
   "source": [
    "for trigram in paragraph.ngrams(3):\n",
    "    print(trigram)"
   ]
  },
  {
   "cell_type": "code",
   "execution_count": 20,
   "metadata": {},
   "outputs": [
    {
     "data": {
      "text/plain": [
       "'de'"
      ]
     },
     "execution_count": 20,
     "metadata": {},
     "output_type": "execute_result"
    }
   ],
   "source": [
    "# Detect the Language:\n",
    "lang = TextBlob('guten tag')\n",
    "lang.detect_language()"
   ]
  },
  {
   "cell_type": "code",
   "execution_count": 25,
   "metadata": {},
   "outputs": [
    {
     "data": {
      "text/plain": [
       "TextBlob(\"Guten Morgen allerseits\")"
      ]
     },
     "execution_count": 25,
     "metadata": {},
     "output_type": "execute_result"
    }
   ],
   "source": [
    "# Translate\n",
    "t = TextBlob(\"Good Morning everyone\")\n",
    "t.translate(to='de')"
   ]
  },
  {
   "cell_type": "code",
   "execution_count": 33,
   "metadata": {},
   "outputs": [
    {
     "data": {
      "text/plain": [
       "TextBlob(\"Bonjour, comment allez-vous\")"
      ]
     },
     "execution_count": 33,
     "metadata": {},
     "output_type": "execute_result"
    }
   ],
   "source": [
    "new_t = 'hola como estas'\n",
    "esp = TextBlob(new_t)\n",
    "t.translate(to='fr')"
   ]
  },
  {
   "cell_type": "code",
   "execution_count": null,
   "metadata": {},
   "outputs": [],
   "source": [
    "# BaseBlob"
   ]
  },
  {
   "cell_type": "code",
   "execution_count": 29,
   "metadata": {},
   "outputs": [],
   "source": [
    "from textblob.blob import BaseBlob # "
   ]
  },
  {
   "cell_type": "code",
   "execution_count": 30,
   "metadata": {},
   "outputs": [],
   "source": [
    "base_ = BaseBlob(text1)"
   ]
  },
  {
   "cell_type": "code",
   "execution_count": 31,
   "metadata": {},
   "outputs": [
    {
     "data": {
      "text/plain": [
       "textblob.blob.BaseBlob"
      ]
     },
     "execution_count": 31,
     "metadata": {},
     "output_type": "execute_result"
    }
   ],
   "source": [
    "type(base_)"
   ]
  },
  {
   "cell_type": "code",
   "execution_count": null,
   "metadata": {},
   "outputs": [],
   "source": []
  }
 ],
 "metadata": {
  "kernelspec": {
   "display_name": "Python 3",
   "language": "python",
   "name": "python3"
  },
  "language_info": {
   "codemirror_mode": {
    "name": "ipython",
    "version": 3
   },
   "file_extension": ".py",
   "mimetype": "text/x-python",
   "name": "python",
   "nbconvert_exporter": "python",
   "pygments_lexer": "ipython3",
   "version": "3.7.4"
  }
 },
 "nbformat": 4,
 "nbformat_minor": 4
}
